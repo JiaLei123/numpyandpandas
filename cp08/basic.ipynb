{
 "cells": [
  {
   "cell_type": "code",
   "execution_count": 1,
   "metadata": {
    "ExecuteTime": {
     "end_time": "2018-11-05T06:14:31.251682Z",
     "start_time": "2018-11-05T06:14:29.737057Z"
    },
    "collapsed": true
   },
   "outputs": [],
   "source": [
    "import pandas as pd\n",
    "import numpy as np\n",
    "from datetime import *"
   ]
  },
  {
   "cell_type": "code",
   "execution_count": 7,
   "metadata": {
    "ExecuteTime": {
     "end_time": "2018-11-01T06:56:06.325325Z",
     "start_time": "2018-11-01T06:56:06.322317Z"
    },
    "collapsed": true
   },
   "outputs": [],
   "source": [
    "start = datetime(2011, 1, 7)"
   ]
  },
  {
   "cell_type": "code",
   "execution_count": 8,
   "metadata": {
    "ExecuteTime": {
     "end_time": "2018-11-01T06:56:20.206920Z",
     "start_time": "2018-11-01T06:56:20.195144Z"
    }
   },
   "outputs": [
    {
     "data": {
      "text/plain": [
       "datetime.datetime(2011, 1, 19, 0, 0)"
      ]
     },
     "execution_count": 8,
     "metadata": {},
     "output_type": "execute_result"
    }
   ],
   "source": [
    "start + timedelta(12)"
   ]
  },
  {
   "cell_type": "code",
   "execution_count": 9,
   "metadata": {
    "ExecuteTime": {
     "end_time": "2018-11-01T07:01:47.297354Z",
     "start_time": "2018-11-01T07:01:47.277728Z"
    }
   },
   "outputs": [
    {
     "data": {
      "text/plain": [
       "DatetimeIndex(['2011-07-06', '2011-08-06'], dtype='datetime64[ns]', freq=None)"
      ]
     },
     "execution_count": 9,
     "metadata": {},
     "output_type": "execute_result"
    }
   ],
   "source": [
    "datestr = [\"7/6/2011\", \"8/6/2011\"]\n",
    "pd.to_datetime(datestr)"
   ]
  },
  {
   "cell_type": "code",
   "execution_count": 10,
   "metadata": {
    "ExecuteTime": {
     "end_time": "2018-11-01T07:10:12.684785Z",
     "start_time": "2018-11-01T07:10:12.668102Z"
    },
    "collapsed": true
   },
   "outputs": [],
   "source": [
    "ts = pd.Series(np.random.randn(6), index=pd.date_range('1/1/2018', periods=6))"
   ]
  },
  {
   "cell_type": "code",
   "execution_count": 11,
   "metadata": {
    "ExecuteTime": {
     "end_time": "2018-11-01T07:10:16.156827Z",
     "start_time": "2018-11-01T07:10:16.144069Z"
    }
   },
   "outputs": [
    {
     "data": {
      "text/plain": [
       "2018-01-01   -1.804860\n",
       "2018-01-02    1.816426\n",
       "2018-01-03   -0.720595\n",
       "2018-01-04   -1.110946\n",
       "2018-01-05    1.311426\n",
       "2018-01-06   -1.429734\n",
       "Freq: D, dtype: float64"
      ]
     },
     "execution_count": 11,
     "metadata": {},
     "output_type": "execute_result"
    }
   ],
   "source": [
    "ts"
   ]
  },
  {
   "cell_type": "code",
   "execution_count": 12,
   "metadata": {
    "ExecuteTime": {
     "end_time": "2018-11-01T07:10:25.724862Z",
     "start_time": "2018-11-01T07:10:25.720852Z"
    }
   },
   "outputs": [
    {
     "data": {
      "text/plain": [
       "pandas.core.series.Series"
      ]
     },
     "execution_count": 12,
     "metadata": {},
     "output_type": "execute_result"
    }
   ],
   "source": [
    "type(ts)"
   ]
  },
  {
   "cell_type": "code",
   "execution_count": 13,
   "metadata": {
    "ExecuteTime": {
     "end_time": "2018-11-01T07:10:55.363551Z",
     "start_time": "2018-11-01T07:10:55.333763Z"
    }
   },
   "outputs": [
    {
     "data": {
      "text/plain": [
       "2018-01-01   -3.609719\n",
       "2018-01-02         NaN\n",
       "2018-01-03   -1.441191\n",
       "2018-01-04         NaN\n",
       "2018-01-05    2.622853\n",
       "2018-01-06         NaN\n",
       "dtype: float64"
      ]
     },
     "execution_count": 13,
     "metadata": {},
     "output_type": "execute_result"
    }
   ],
   "source": [
    "ts + ts[::2]"
   ]
  },
  {
   "cell_type": "code",
   "execution_count": 2,
   "metadata": {
    "ExecuteTime": {
     "end_time": "2018-11-05T06:14:46.830550Z",
     "start_time": "2018-11-05T06:14:46.815510Z"
    },
    "collapsed": true
   },
   "outputs": [],
   "source": [
    "ts = pd.Series(np.random.randn(1000), index=pd.date_range('1/1/2018', periods=1000))"
   ]
  },
  {
   "cell_type": "code",
   "execution_count": 3,
   "metadata": {
    "ExecuteTime": {
     "end_time": "2018-11-05T06:14:59.445669Z",
     "start_time": "2018-11-05T06:14:59.415589Z"
    }
   },
   "outputs": [
    {
     "data": {
      "text/plain": [
       "2019-01-01   -1.407865\n",
       "2019-01-02    0.215089\n",
       "2019-01-03    0.524336\n",
       "2019-01-04   -0.601726\n",
       "2019-01-05   -0.111376\n",
       "2019-01-06   -1.436511\n",
       "2019-01-07    0.665898\n",
       "2019-01-08   -0.469641\n",
       "2019-01-09   -0.308507\n",
       "2019-01-10   -1.079110\n",
       "2019-01-11   -1.802865\n",
       "2019-01-12   -1.259260\n",
       "2019-01-13    0.301579\n",
       "2019-01-14    1.318637\n",
       "2019-01-15   -0.437703\n",
       "2019-01-16   -0.551581\n",
       "2019-01-17    0.070680\n",
       "2019-01-18    0.120003\n",
       "2019-01-19    2.033774\n",
       "2019-01-20    0.067246\n",
       "2019-01-21   -1.522485\n",
       "2019-01-22   -0.600974\n",
       "2019-01-23    0.482627\n",
       "2019-01-24   -0.233487\n",
       "2019-01-25    0.526178\n",
       "2019-01-26    0.201358\n",
       "2019-01-27    0.677027\n",
       "2019-01-28   -0.895462\n",
       "2019-01-29   -0.198184\n",
       "2019-01-30   -0.246197\n",
       "                ...   \n",
       "2019-12-02    1.547449\n",
       "2019-12-03   -0.428604\n",
       "2019-12-04    0.364073\n",
       "2019-12-05   -0.114400\n",
       "2019-12-06   -0.064897\n",
       "2019-12-07   -0.596860\n",
       "2019-12-08    0.314954\n",
       "2019-12-09    0.123405\n",
       "2019-12-10   -0.322157\n",
       "2019-12-11   -0.900159\n",
       "2019-12-12    1.084717\n",
       "2019-12-13   -0.356303\n",
       "2019-12-14    0.172409\n",
       "2019-12-15   -0.596660\n",
       "2019-12-16   -3.001156\n",
       "2019-12-17    0.025730\n",
       "2019-12-18   -0.519312\n",
       "2019-12-19    0.148675\n",
       "2019-12-20   -0.679547\n",
       "2019-12-21   -0.670549\n",
       "2019-12-22    1.592726\n",
       "2019-12-23   -1.442356\n",
       "2019-12-24    1.333226\n",
       "2019-12-25   -0.282258\n",
       "2019-12-26   -0.939232\n",
       "2019-12-27    0.226474\n",
       "2019-12-28   -0.632627\n",
       "2019-12-29   -0.565107\n",
       "2019-12-30   -0.532456\n",
       "2019-12-31    0.911846\n",
       "Freq: D, Length: 365, dtype: float64"
      ]
     },
     "execution_count": 3,
     "metadata": {},
     "output_type": "execute_result"
    }
   ],
   "source": [
    "ts['2019']"
   ]
  },
  {
   "cell_type": "code",
   "execution_count": 4,
   "metadata": {
    "ExecuteTime": {
     "end_time": "2018-11-05T06:15:20.194861Z",
     "start_time": "2018-11-05T06:15:20.186308Z"
    }
   },
   "outputs": [
    {
     "data": {
      "text/plain": [
       "2019-05-01   -1.423888\n",
       "2019-05-02   -0.868613\n",
       "2019-05-03   -2.148263\n",
       "2019-05-04    0.636395\n",
       "2019-05-05    0.098404\n",
       "2019-05-06    1.399369\n",
       "2019-05-07    0.025760\n",
       "2019-05-08   -0.245815\n",
       "2019-05-09    2.321864\n",
       "2019-05-10    0.403682\n",
       "2019-05-11   -0.364811\n",
       "2019-05-12    0.119397\n",
       "2019-05-13   -1.287792\n",
       "2019-05-14   -2.816539\n",
       "2019-05-15    1.134171\n",
       "2019-05-16    0.393980\n",
       "2019-05-17   -1.388992\n",
       "2019-05-18    1.103523\n",
       "2019-05-19   -0.125802\n",
       "2019-05-20   -0.983392\n",
       "2019-05-21   -1.432446\n",
       "2019-05-22   -0.508474\n",
       "2019-05-23    1.800058\n",
       "2019-05-24   -1.490760\n",
       "2019-05-25   -0.626911\n",
       "2019-05-26   -0.585525\n",
       "2019-05-27    1.163917\n",
       "2019-05-28   -0.453991\n",
       "2019-05-29    0.130401\n",
       "2019-05-30   -0.313241\n",
       "2019-05-31   -1.041319\n",
       "Freq: D, dtype: float64"
      ]
     },
     "execution_count": 4,
     "metadata": {},
     "output_type": "execute_result"
    }
   ],
   "source": [
    "ts['2019-05']"
   ]
  },
  {
   "cell_type": "code",
   "execution_count": 5,
   "metadata": {
    "ExecuteTime": {
     "end_time": "2018-11-05T06:15:55.619114Z",
     "start_time": "2018-11-05T06:15:55.602569Z"
    }
   },
   "outputs": [
    {
     "data": {
      "text/plain": [
       "2019-06-05    0.343137\n",
       "2019-06-06    0.443556\n",
       "2019-06-07    0.310608\n",
       "2019-06-08   -0.559817\n",
       "2019-06-09    0.881712\n",
       "2019-06-10    2.197980\n",
       "2019-06-11   -0.547098\n",
       "2019-06-12   -0.626465\n",
       "2019-06-13   -1.226458\n",
       "2019-06-14   -0.436855\n",
       "2019-06-15   -0.605265\n",
       "2019-06-16   -0.535513\n",
       "2019-06-17   -0.285583\n",
       "2019-06-18   -0.117441\n",
       "2019-06-19    0.170061\n",
       "2019-06-20   -0.324464\n",
       "2019-06-21   -0.735580\n",
       "2019-06-22    0.993968\n",
       "2019-06-23    0.064475\n",
       "2019-06-24    0.569006\n",
       "2019-06-25    0.837865\n",
       "2019-06-26    1.994418\n",
       "2019-06-27    0.651521\n",
       "2019-06-28    1.641826\n",
       "2019-06-29   -0.311850\n",
       "2019-06-30    0.023264\n",
       "2019-07-01    1.056609\n",
       "2019-07-02   -0.399340\n",
       "2019-07-03   -0.284136\n",
       "2019-07-04    0.513152\n",
       "2019-07-05    0.054121\n",
       "2019-07-06    0.021559\n",
       "2019-07-07   -1.117879\n",
       "2019-07-08    0.468756\n",
       "2019-07-09    0.872856\n",
       "2019-07-10    0.509953\n",
       "2019-07-11    0.925536\n",
       "Freq: D, dtype: float64"
      ]
     },
     "execution_count": 5,
     "metadata": {},
     "output_type": "execute_result"
    }
   ],
   "source": [
    "ts['2019-06-05':'2019-07-11']"
   ]
  },
  {
   "cell_type": "code",
   "execution_count": 6,
   "metadata": {
    "ExecuteTime": {
     "end_time": "2018-11-05T06:17:06.324554Z",
     "start_time": "2018-11-05T06:17:06.316030Z"
    }
   },
   "outputs": [
    {
     "data": {
      "text/plain": [
       "2018-01-01   -0.710904\n",
       "2018-01-02    0.204053\n",
       "2018-01-03    0.018593\n",
       "2018-01-04   -1.926030\n",
       "2018-01-05   -1.677353\n",
       "2018-01-06   -0.812439\n",
       "2018-01-07   -1.679695\n",
       "2018-01-08   -1.519670\n",
       "2018-01-09   -0.639582\n",
       "2018-01-10   -0.990594\n",
       "2018-01-11   -0.754529\n",
       "2018-01-12   -2.814958\n",
       "2018-01-13   -0.913909\n",
       "2018-01-14   -1.807443\n",
       "2018-01-15   -0.583653\n",
       "2018-01-16    0.011095\n",
       "2018-01-17    0.071004\n",
       "2018-01-18    0.177405\n",
       "2018-01-19    0.890941\n",
       "2018-01-20    0.518798\n",
       "2018-01-21    0.360459\n",
       "2018-01-22    0.197260\n",
       "2018-01-23   -0.710601\n",
       "2018-01-24    0.245386\n",
       "2018-01-25    0.043647\n",
       "2018-01-26   -1.006466\n",
       "2018-01-27   -0.370327\n",
       "2018-01-28    1.037176\n",
       "2018-01-29    0.193601\n",
       "2018-01-30   -1.432056\n",
       "                ...   \n",
       "2019-12-03   -0.428604\n",
       "2019-12-04    0.364073\n",
       "2019-12-05   -0.114400\n",
       "2019-12-06   -0.064897\n",
       "2019-12-07   -0.596860\n",
       "2019-12-08    0.314954\n",
       "2019-12-09    0.123405\n",
       "2019-12-10   -0.322157\n",
       "2019-12-11   -0.900159\n",
       "2019-12-12    1.084717\n",
       "2019-12-13   -0.356303\n",
       "2019-12-14    0.172409\n",
       "2019-12-15   -0.596660\n",
       "2019-12-16   -3.001156\n",
       "2019-12-17    0.025730\n",
       "2019-12-18   -0.519312\n",
       "2019-12-19    0.148675\n",
       "2019-12-20   -0.679547\n",
       "2019-12-21   -0.670549\n",
       "2019-12-22    1.592726\n",
       "2019-12-23   -1.442356\n",
       "2019-12-24    1.333226\n",
       "2019-12-25   -0.282258\n",
       "2019-12-26   -0.939232\n",
       "2019-12-27    0.226474\n",
       "2019-12-28   -0.632627\n",
       "2019-12-29   -0.565107\n",
       "2019-12-30   -0.532456\n",
       "2019-12-31    0.911846\n",
       "2020-01-01    0.009508\n",
       "Freq: D, Length: 731, dtype: float64"
      ]
     },
     "execution_count": 6,
     "metadata": {},
     "output_type": "execute_result"
    }
   ],
   "source": [
    "ts.truncate(after='2020')"
   ]
  },
  {
   "cell_type": "code",
   "execution_count": 7,
   "metadata": {
    "ExecuteTime": {
     "end_time": "2018-11-05T06:23:59.673330Z",
     "start_time": "2018-11-05T06:23:59.666311Z"
    }
   },
   "outputs": [
    {
     "data": {
      "text/plain": [
       "DatetimeIndex(['2012-04-01', '2012-04-02', '2012-04-03', '2012-04-04',\n",
       "               '2012-04-05', '2012-04-06', '2012-04-07', '2012-04-08',\n",
       "               '2012-04-09', '2012-04-10', '2012-04-11', '2012-04-12',\n",
       "               '2012-04-13', '2012-04-14', '2012-04-15', '2012-04-16',\n",
       "               '2012-04-17', '2012-04-18', '2012-04-19', '2012-04-20',\n",
       "               '2012-04-21', '2012-04-22', '2012-04-23', '2012-04-24',\n",
       "               '2012-04-25', '2012-04-26', '2012-04-27', '2012-04-28',\n",
       "               '2012-04-29', '2012-04-30', '2012-05-01', '2012-05-02',\n",
       "               '2012-05-03', '2012-05-04', '2012-05-05', '2012-05-06',\n",
       "               '2012-05-07', '2012-05-08', '2012-05-09', '2012-05-10',\n",
       "               '2012-05-11', '2012-05-12', '2012-05-13', '2012-05-14',\n",
       "               '2012-05-15', '2012-05-16', '2012-05-17', '2012-05-18',\n",
       "               '2012-05-19', '2012-05-20', '2012-05-21', '2012-05-22',\n",
       "               '2012-05-23', '2012-05-24', '2012-05-25', '2012-05-26',\n",
       "               '2012-05-27', '2012-05-28', '2012-05-29', '2012-05-30',\n",
       "               '2012-05-31', '2012-06-01'],\n",
       "              dtype='datetime64[ns]', freq='D')"
      ]
     },
     "execution_count": 7,
     "metadata": {},
     "output_type": "execute_result"
    }
   ],
   "source": [
    "pd.date_range('4/1/2012', '6/1/2012')"
   ]
  },
  {
   "cell_type": "code",
   "execution_count": 8,
   "metadata": {
    "ExecuteTime": {
     "end_time": "2018-11-05T06:24:14.133888Z",
     "start_time": "2018-11-05T06:24:14.127872Z"
    }
   },
   "outputs": [
    {
     "data": {
      "text/plain": [
       "DatetimeIndex(['2012-04-01', '2012-04-02', '2012-04-03', '2012-04-04',\n",
       "               '2012-04-05', '2012-04-06', '2012-04-07', '2012-04-08',\n",
       "               '2012-04-09', '2012-04-10'],\n",
       "              dtype='datetime64[ns]', freq='D')"
      ]
     },
     "execution_count": 8,
     "metadata": {},
     "output_type": "execute_result"
    }
   ],
   "source": [
    "pd.date_range('4/1/2012', periods=10)"
   ]
  },
  {
   "cell_type": "code",
   "execution_count": 9,
   "metadata": {
    "ExecuteTime": {
     "end_time": "2018-11-05T06:24:39.821610Z",
     "start_time": "2018-11-05T06:24:39.806570Z"
    }
   },
   "outputs": [
    {
     "data": {
      "text/plain": [
       "DatetimeIndex(['2012-04-30', '2012-05-31'], dtype='datetime64[ns]', freq='BM')"
      ]
     },
     "execution_count": 9,
     "metadata": {},
     "output_type": "execute_result"
    }
   ],
   "source": [
    "pd.date_range('4/1/2012', '6/1/2012', freq='BM')"
   ]
  },
  {
   "cell_type": "code",
   "execution_count": 11,
   "metadata": {
    "ExecuteTime": {
     "end_time": "2018-11-05T06:26:48.370032Z",
     "start_time": "2018-11-05T06:26:48.364517Z"
    }
   },
   "outputs": [
    {
     "data": {
      "text/plain": [
       "DatetimeIndex(['2012-04-01', '2012-04-02', '2012-04-03', '2012-04-04',\n",
       "               '2012-04-05', '2012-04-06', '2012-04-07', '2012-04-08',\n",
       "               '2012-04-09', '2012-04-10'],\n",
       "              dtype='datetime64[ns]', freq='D')"
      ]
     },
     "execution_count": 11,
     "metadata": {},
     "output_type": "execute_result"
    }
   ],
   "source": [
    "pd.date_range('4/1/2012 12:33:22', periods=10, normalize=True)"
   ]
  },
  {
   "cell_type": "code",
   "execution_count": 12,
   "metadata": {
    "ExecuteTime": {
     "end_time": "2018-11-05T06:55:29.224673Z",
     "start_time": "2018-11-05T06:55:29.217153Z"
    }
   },
   "outputs": [
    {
     "data": {
      "text/plain": [
       "DatetimeIndex(['2012-01-20', '2012-02-17', '2012-03-16', '2012-04-20',\n",
       "               '2012-05-18', '2012-06-15', '2012-07-20', '2012-08-17'],\n",
       "              dtype='datetime64[ns]', freq='WOM-3FRI')"
      ]
     },
     "execution_count": 12,
     "metadata": {},
     "output_type": "execute_result"
    }
   ],
   "source": [
    "pd.date_range('1/1/2012', '9/1/2012', freq='WOM-3FRI')"
   ]
  },
  {
   "cell_type": "code",
   "execution_count": 13,
   "metadata": {
    "ExecuteTime": {
     "end_time": "2018-11-05T06:57:11.508782Z",
     "start_time": "2018-11-05T06:57:11.503251Z"
    },
    "collapsed": true
   },
   "outputs": [],
   "source": [
    "ts = pd.Series(np.random.randn(4), index=pd.date_range('1/1/2000', periods=4, freq='M'))"
   ]
  },
  {
   "cell_type": "code",
   "execution_count": 14,
   "metadata": {
    "ExecuteTime": {
     "end_time": "2018-11-05T06:57:13.451548Z",
     "start_time": "2018-11-05T06:57:13.443526Z"
    }
   },
   "outputs": [
    {
     "data": {
      "text/plain": [
       "2000-01-31    2.078607\n",
       "2000-02-29   -1.261592\n",
       "2000-03-31   -1.317308\n",
       "2000-04-30   -0.403674\n",
       "Freq: M, dtype: float64"
      ]
     },
     "execution_count": 14,
     "metadata": {},
     "output_type": "execute_result"
    }
   ],
   "source": [
    "ts"
   ]
  },
  {
   "cell_type": "code",
   "execution_count": 15,
   "metadata": {
    "ExecuteTime": {
     "end_time": "2018-11-05T06:57:37.160248Z",
     "start_time": "2018-11-05T06:57:37.147214Z"
    }
   },
   "outputs": [
    {
     "data": {
      "text/plain": [
       "2000-01-31         NaN\n",
       "2000-02-29         NaN\n",
       "2000-03-31    2.078607\n",
       "2000-04-30   -1.261592\n",
       "Freq: M, dtype: float64"
      ]
     },
     "execution_count": 15,
     "metadata": {},
     "output_type": "execute_result"
    }
   ],
   "source": [
    "ts.shift(2)"
   ]
  },
  {
   "cell_type": "code",
   "execution_count": 16,
   "metadata": {
    "ExecuteTime": {
     "end_time": "2018-11-05T06:58:43.865981Z",
     "start_time": "2018-11-05T06:58:43.859930Z"
    }
   },
   "outputs": [
    {
     "data": {
      "text/plain": [
       "2000-01-31   -1.317308\n",
       "2000-02-29   -0.403674\n",
       "2000-03-31         NaN\n",
       "2000-04-30         NaN\n",
       "Freq: M, dtype: float64"
      ]
     },
     "execution_count": 16,
     "metadata": {},
     "output_type": "execute_result"
    }
   ],
   "source": [
    "ts.shift(-2)"
   ]
  },
  {
   "cell_type": "code",
   "execution_count": 18,
   "metadata": {
    "ExecuteTime": {
     "end_time": "2018-11-05T06:59:22.390815Z",
     "start_time": "2018-11-05T06:59:22.385300Z"
    }
   },
   "outputs": [
    {
     "data": {
      "text/plain": [
       "2000-01-31    2.078607\n",
       "2000-02-29   -1.261592\n",
       "2000-03-31   -1.317308\n",
       "2000-04-30   -0.403674\n",
       "Freq: M, dtype: float64"
      ]
     },
     "execution_count": 18,
     "metadata": {},
     "output_type": "execute_result"
    }
   ],
   "source": [
    "ts"
   ]
  },
  {
   "cell_type": "code",
   "execution_count": 20,
   "metadata": {
    "ExecuteTime": {
     "end_time": "2018-11-05T06:59:41.520407Z",
     "start_time": "2018-11-05T06:59:41.512887Z"
    }
   },
   "outputs": [
    {
     "data": {
      "text/plain": [
       "2000-01-28    2.078607\n",
       "2000-02-26   -1.261592\n",
       "2000-03-28   -1.317308\n",
       "2000-04-27   -0.403674\n",
       "dtype: float64"
      ]
     },
     "execution_count": 20,
     "metadata": {},
     "output_type": "execute_result"
    }
   ],
   "source": [
    "ts.shift(-3, freq='D')"
   ]
  },
  {
   "cell_type": "code",
   "execution_count": null,
   "metadata": {
    "collapsed": true
   },
   "outputs": [],
   "source": []
  }
 ],
 "metadata": {
  "kernelspec": {
   "display_name": "Python 3",
   "language": "python",
   "name": "python3"
  },
  "language_info": {
   "codemirror_mode": {
    "name": "ipython",
    "version": 3
   },
   "file_extension": ".py",
   "mimetype": "text/x-python",
   "name": "python",
   "nbconvert_exporter": "python",
   "pygments_lexer": "ipython3",
   "version": "3.6.2"
  }
 },
 "nbformat": 4,
 "nbformat_minor": 2
}
