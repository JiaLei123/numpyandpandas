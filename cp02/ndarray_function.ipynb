{
 "cells": [
  {
   "cell_type": "code",
   "execution_count": 24,
   "metadata": {
    "ExecuteTime": {
     "end_time": "2018-08-09T07:04:31.481504Z",
     "start_time": "2018-08-09T07:04:30.920301Z"
    }
   },
   "outputs": [
    {
     "data": {
      "text/plain": [
       "array([[ 1.11352186,  0.97109521,  0.57798303,  1.62338397],\n",
       "       [ 0.46387119, -0.52230146,  0.14154554,  1.47385394],\n",
       "       [ 0.71539879,  1.14962366, -0.28726358,  0.16702734],\n",
       "       [ 2.16351834,  0.55223056,  1.15956629,  0.43514683],\n",
       "       [ 0.95276124,  0.03857502,  0.71465244,  1.09748095],\n",
       "       [ 0.92322845,  0.96912339,  0.78600993,  1.36327978],\n",
       "       [ 0.07783483,  0.60819292,  0.58595931,  1.49306071],\n",
       "       [ 1.23245044,  0.21336906,  0.22330239, -0.4754557 ]])"
      ]
     },
     "execution_count": 24,
     "metadata": {},
     "output_type": "execute_result"
    }
   ],
   "source": [
    "import numpy as np\n",
    "import matplotlib.pyplot as plt\n",
    "\n",
    "#ufunc\n",
    "x = np.random.randn(8,4)\n",
    "y = np.random.randn(8,4)\n",
    "np.maximum(x, y)"
   ]
  },
  {
   "cell_type": "code",
   "execution_count": 11,
   "metadata": {
    "ExecuteTime": {
     "end_time": "2018-08-09T06:50:37.240551Z",
     "start_time": "2018-08-09T06:50:37.232701Z"
    }
   },
   "outputs": [
    {
     "data": {
      "text/plain": [
       "(array([[ 0.51092795,  0.17057941, -0.0649877 ,  0.29805582],\n",
       "        [-0.35987045, -0.90198288, -0.59164415, -0.86300251],\n",
       "        [-0.20736687,  0.71868001, -0.38285332, -0.11505529],\n",
       "        [ 0.40100701,  0.67677079,  0.58989441, -0.90240949],\n",
       "        [ 0.45301395,  0.94554857, -0.75695688,  0.08915533],\n",
       "        [ 0.50832833, -0.26974803, -0.73729735,  0.14411459],\n",
       "        [-0.19911261,  0.6333176 , -0.68571917,  0.47467143],\n",
       "        [ 0.79625929,  0.65806713,  0.52862905,  0.36497166]]),\n",
       " array([[ 3.,  1., -4.,  3.],\n",
       "        [-2., -0., -1., -0.],\n",
       "        [-4.,  4., -2., -3.],\n",
       "        [ 3.,  0.,  2., -3.],\n",
       "        [ 0.,  6., -3.,  0.],\n",
       "        [ 3., -0., -5., 11.],\n",
       "        [-4., 11., -7.,  6.],\n",
       "        [ 2.,  5.,  6.,  2.]]))"
      ]
     },
     "execution_count": 11,
     "metadata": {},
     "output_type": "execute_result"
    }
   ],
   "source": [
    "np.modf(x*5)"
   ]
  },
  {
   "cell_type": "code",
   "execution_count": 22,
   "metadata": {
    "ExecuteTime": {
     "end_time": "2018-08-09T07:01:46.036618Z",
     "start_time": "2018-08-09T07:01:45.174634Z"
    }
   },
   "outputs": [],
   "source": [
    "points = np.arange(-5, 5, 0.001)\n",
    "xs, ys = np.meshgrid(points, points)\n",
    "xs"
   ]
  },
  {
   "cell_type": "code",
   "execution_count": 23,
   "metadata": {
    "ExecuteTime": {
     "end_time": "2018-08-09T07:02:27.686883Z",
     "start_time": "2018-08-09T07:02:25.997387Z"
    }
   },
   "outputs": [
    {
     "data": {
      "text/plain": [
       "array([[7.07106781, 7.07036074, 7.06965374, ..., 7.06894681, 7.06965374,\n",
       "        7.07036074],\n",
       "       [7.07036074, 7.0696536 , 7.06894653, ..., 7.06823953, 7.06894653,\n",
       "        7.0696536 ],\n",
       "       [7.06965374, 7.06894653, 7.06823938, ..., 7.06753231, 7.06823938,\n",
       "        7.06894653],\n",
       "       ...,\n",
       "       [7.06894681, 7.06823953, 7.06753231, ..., 7.06682517, 7.06753231,\n",
       "        7.06823953],\n",
       "       [7.06965374, 7.06894653, 7.06823938, ..., 7.06753231, 7.06823938,\n",
       "        7.06894653],\n",
       "       [7.07036074, 7.0696536 , 7.06894653, ..., 7.06823953, 7.06894653,\n",
       "        7.0696536 ]])"
      ]
     },
     "execution_count": 23,
     "metadata": {},
     "output_type": "execute_result"
    }
   ],
   "source": [
    "z = np.sqrt(xs **2 + ys **2)\n",
    "z"
   ]
  },
  {
   "cell_type": "code",
   "execution_count": 25,
   "metadata": {
    "ExecuteTime": {
     "end_time": "2018-08-09T07:05:09.608923Z",
     "start_time": "2018-08-09T07:05:08.834580Z"
    }
   },
   "outputs": [
    {
     "data": {
      "text/plain": [
       "<matplotlib.colorbar.Colorbar at 0x183f0ac1550>"
      ]
     },
     "execution_count": 25,
     "metadata": {},
     "output_type": "execute_result"
    }
   ],
   "source": [
    "plt.imshow(z, cmap=plt.cm.gray);plt.colorbar()"
   ]
  },
  {
   "cell_type": "code",
   "execution_count": 27,
   "metadata": {
    "ExecuteTime": {
     "end_time": "2018-08-09T07:05:50.889154Z",
     "start_time": "2018-08-09T07:05:38.479885Z"
    },
    "scrolled": true
   },
   "outputs": [
    {
     "data": {
      "image/png": "[encoded data removed]",
      "text/plain": [
       "<matplotlib.figure.Figure at 0x183f0defeb8>"
      ]
     },
     "metadata": {},
     "output_type": "display_data"
    }
   ],
   "source": [
    "plt.title(\"abc\")\n",
    "plt.show()"
   ]
  },
  {
   "cell_type": "code",
   "execution_count": 34,
   "metadata": {
    "ExecuteTime": {
     "end_time": "2018-08-09T07:19:44.276386Z",
     "start_time": "2018-08-09T07:19:44.269921Z"
    }
   },
   "outputs": [
    {
     "data": {
      "text/plain": [
       "array([[0.71450955, 0.97670538, 2.03101551, 1.62122723],\n",
       "       [1.05694416, 1.53621547, 0.        , 0.89762082],\n",
       "       [1.14618061, 0.43208724, 0.        , 0.63205588],\n",
       "       [0.        , 0.        , 0.        , 0.56047942]])"
      ]
     },
     "execution_count": 34,
     "metadata": {},
     "output_type": "execute_result"
    }
   ],
   "source": [
    "arr = np.random.randn(4,4)\n",
    "# print(arr)\n",
    "np.where(arr > 0, arr, 0)"
   ]
  },
  {
   "cell_type": "code",
   "execution_count": null,
   "metadata": {
    "collapsed": true
   },
   "outputs": [],
   "source": []
  }
 ],
 "metadata": {
  "kernelspec": {
   "display_name": "Python 3",
   "language": "python",
   "name": "python3"
  },
  "language_info": {
   "codemirror_mode": {
    "name": "ipython",
    "version": 3
   },
   "file_extension": ".py",
   "mimetype": "text/x-python",
   "name": "python",
   "nbconvert_exporter": "python",
   "pygments_lexer": "ipython3",
   "version": "3.6.2"
  }
 },
 "nbformat": 4,
 "nbformat_minor": 2
}
