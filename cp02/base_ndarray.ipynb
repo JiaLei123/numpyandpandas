{
 "cells": [
  {
   "cell_type": "code",
   "execution_count": 1,
   "metadata": {
    "ExecuteTime": {
     "end_time": "2018-08-09T05:57:10.967265Z",
     "start_time": "2018-08-09T05:57:10.612787Z"
    }
   },
   "outputs": [
    {
     "data": {
      "text/plain": [
       "array([[ 2.13320894, -1.15607049,  0.34759762],\n",
       "       [-0.92147232, -0.2062849 , -0.50560036]])"
      ]
     },
     "execution_count": 1,
     "metadata": {},
     "output_type": "execute_result"
    }
   ],
   "source": [
    "#数组的创建\n",
    "import numpy as np\n",
    "data = np.random.randn(2, 3)\n",
    "data"
   ]
  },
  {
   "cell_type": "code",
   "execution_count": 3,
   "metadata": {
    "ExecuteTime": {
     "end_time": "2018-08-08T06:41:36.597611Z",
     "start_time": "2018-08-08T06:41:36.592598Z"
    }
   },
   "outputs": [
    {
     "data": {
      "text/plain": [
       "array([[-0.57584331, -1.39077243,  1.76140704],\n",
       "       [-0.17710151,  1.25203779, -0.03949288]])"
      ]
     },
     "execution_count": 3,
     "metadata": {},
     "output_type": "execute_result"
    }
   ],
   "source": [
    "data + data"
   ]
  },
  {
   "cell_type": "code",
   "execution_count": 4,
   "metadata": {
    "ExecuteTime": {
     "end_time": "2018-08-08T06:41:36.610084Z",
     "start_time": "2018-08-08T06:41:36.599617Z"
    }
   },
   "outputs": [
    {
     "data": {
      "text/plain": [
       "array([[3.91510373e-06, 2.64399592e-02, 2.80735490e-01],\n",
       "       [2.96430361e-11, 9.24430802e-03, 9.01338015e-18]])"
      ]
     },
     "execution_count": 4,
     "metadata": {},
     "output_type": "execute_result"
    }
   ],
   "source": [
    "data ** 10"
   ]
  },
  {
   "cell_type": "code",
   "execution_count": 5,
   "metadata": {
    "ExecuteTime": {
     "end_time": "2018-08-08T06:41:36.742062Z",
     "start_time": "2018-08-08T06:41:36.737156Z"
    },
    "collapsed": true
   },
   "outputs": [],
   "source": [
    "data1= [6, 22, 8.9, 21]\n",
    "arr1 = np.array(data1)"
   ]
  },
  {
   "cell_type": "code",
   "execution_count": 6,
   "metadata": {
    "ExecuteTime": {
     "end_time": "2018-08-08T06:41:36.883335Z",
     "start_time": "2018-08-08T06:41:36.877443Z"
    }
   },
   "outputs": [
    {
     "data": {
      "text/plain": [
       "dtype('float64')"
      ]
     },
     "execution_count": 6,
     "metadata": {},
     "output_type": "execute_result"
    }
   ],
   "source": [
    "arr1.dtype"
   ]
  },
  {
   "cell_type": "code",
   "execution_count": 7,
   "metadata": {
    "ExecuteTime": {
     "end_time": "2018-08-08T06:41:37.047575Z",
     "start_time": "2018-08-08T06:41:37.041687Z"
    }
   },
   "outputs": [
    {
     "data": {
      "text/plain": [
       "(4,)"
      ]
     },
     "execution_count": 7,
     "metadata": {},
     "output_type": "execute_result"
    }
   ],
   "source": [
    "arr1.shape"
   ]
  },
  {
   "cell_type": "code",
   "execution_count": 8,
   "metadata": {
    "ExecuteTime": {
     "end_time": "2018-08-08T06:41:37.231365Z",
     "start_time": "2018-08-08T06:41:37.223517Z"
    }
   },
   "outputs": [
    {
     "data": {
      "text/plain": [
       "(2, 4)"
      ]
     },
     "execution_count": 8,
     "metadata": {},
     "output_type": "execute_result"
    }
   ],
   "source": [
    "data2 = [(2,3,3,1), (3,4,5,6)]\n",
    "arr2 = np.array(data2)\n",
    "arr2.shape"
   ]
  },
  {
   "cell_type": "code",
   "execution_count": 9,
   "metadata": {
    "ExecuteTime": {
     "end_time": "2018-08-08T06:41:37.688709Z",
     "start_time": "2018-08-08T06:41:37.683803Z"
    }
   },
   "outputs": [
    {
     "data": {
      "text/plain": [
       "dtype('int32')"
      ]
     },
     "execution_count": 9,
     "metadata": {},
     "output_type": "execute_result"
    }
   ],
   "source": [
    "arr2.dtype"
   ]
  },
  {
   "cell_type": "code",
   "execution_count": 10,
   "metadata": {
    "ExecuteTime": {
     "end_time": "2018-08-08T06:41:37.857877Z",
     "start_time": "2018-08-08T06:41:37.852004Z"
    }
   },
   "outputs": [
    {
     "data": {
      "text/plain": [
       "array([[0, 0, 0, 0],\n",
       "       [0, 0, 0, 0]])"
      ]
     },
     "execution_count": 10,
     "metadata": {},
     "output_type": "execute_result"
    }
   ],
   "source": [
    "np.zeros_like(arr2)"
   ]
  },
  {
   "cell_type": "code",
   "execution_count": 11,
   "metadata": {
    "ExecuteTime": {
     "end_time": "2018-08-08T06:41:38.383038Z",
     "start_time": "2018-08-08T06:41:38.377151Z"
    }
   },
   "outputs": [
    {
     "data": {
      "text/plain": [
       "array([[1., 1., 1.],\n",
       "       [1., 1., 1.]])"
      ]
     },
     "execution_count": 11,
     "metadata": {},
     "output_type": "execute_result"
    }
   ],
   "source": [
    "np.ones((2,3))"
   ]
  },
  {
   "cell_type": "code",
   "execution_count": 12,
   "metadata": {
    "ExecuteTime": {
     "end_time": "2018-08-08T06:41:39.189509Z",
     "start_time": "2018-08-08T06:41:39.183583Z"
    }
   },
   "outputs": [
    {
     "data": {
      "text/plain": [
       "array([[1., 0., 0., 0., 0., 0., 0., 0., 0., 0.],\n",
       "       [0., 1., 0., 0., 0., 0., 0., 0., 0., 0.],\n",
       "       [0., 0., 1., 0., 0., 0., 0., 0., 0., 0.],\n",
       "       [0., 0., 0., 1., 0., 0., 0., 0., 0., 0.],\n",
       "       [0., 0., 0., 0., 1., 0., 0., 0., 0., 0.],\n",
       "       [0., 0., 0., 0., 0., 1., 0., 0., 0., 0.],\n",
       "       [0., 0., 0., 0., 0., 0., 1., 0., 0., 0.],\n",
       "       [0., 0., 0., 0., 0., 0., 0., 1., 0., 0.],\n",
       "       [0., 0., 0., 0., 0., 0., 0., 0., 1., 0.],\n",
       "       [0., 0., 0., 0., 0., 0., 0., 0., 0., 1.]])"
      ]
     },
     "execution_count": 12,
     "metadata": {},
     "output_type": "execute_result"
    }
   ],
   "source": [
    "np.eye(10)"
   ]
  },
  {
   "cell_type": "code",
   "execution_count": 14,
   "metadata": {
    "ExecuteTime": {
     "end_time": "2018-08-08T06:42:12.138391Z",
     "start_time": "2018-08-08T06:42:12.132936Z"
    }
   },
   "outputs": [
    {
     "data": {
      "text/plain": [
       "array([[b'2', b'3', b'3', b'1'],\n",
       "       [b'3', b'4', b'5', b'6']], dtype='|S11')"
      ]
     },
     "execution_count": 14,
     "metadata": {},
     "output_type": "execute_result"
    }
   ],
   "source": [
    "arr2.astype(np.string_)"
   ]
  },
  {
   "cell_type": "code",
   "execution_count": 28,
   "metadata": {
    "ExecuteTime": {
     "end_time": "2018-08-08T06:52:42.014008Z",
     "start_time": "2018-08-08T06:52:42.008119Z"
    }
   },
   "outputs": [
    {
     "data": {
      "text/plain": [
       "array([ 0,  1,  2,  3,  4, 55, 33, 44,  8,  9])"
      ]
     },
     "execution_count": 28,
     "metadata": {},
     "output_type": "execute_result"
    }
   ],
   "source": [
    "a_slice = arr[5:8]\n",
    "a_slice[:] = [55, 33,44]\n",
    "arr"
   ]
  },
  {
   "cell_type": "code",
   "execution_count": 36,
   "metadata": {
    "ExecuteTime": {
     "end_time": "2018-08-08T06:55:48.478247Z",
     "start_time": "2018-08-08T06:55:48.471810Z"
    }
   },
   "outputs": [
    {
     "data": {
      "text/plain": [
       "array([0, 1, 2, 3, 4, 5, 6, 7, 8, 9])"
      ]
     },
     "execution_count": 36,
     "metadata": {},
     "output_type": "execute_result"
    }
   ],
   "source": [
    "#索引和切片\n",
    "arr = np.arange(10)\n",
    "a = arr[5]\n",
    "a += 55\n",
    "arr"
   ]
  },
  {
   "cell_type": "code",
   "execution_count": 34,
   "metadata": {
    "ExecuteTime": {
     "end_time": "2018-08-08T06:55:07.707041Z",
     "start_time": "2018-08-08T06:55:07.700210Z"
    }
   },
   "outputs": [
    {
     "data": {
      "text/plain": [
       "array([[ 0,  1,  2,  3],\n",
       "       [44, 44,  6,  7],\n",
       "       [ 8,  9, 10, 11]])"
      ]
     },
     "execution_count": 34,
     "metadata": {},
     "output_type": "execute_result"
    }
   ],
   "source": [
    "arr2 = np.arange(12).reshape((3,4))\n",
    "a = arr2[1]\n",
    "a[:2] = 44\n",
    "arr2"
   ]
  },
  {
   "cell_type": "code",
   "execution_count": 59,
   "metadata": {
    "ExecuteTime": {
     "end_time": "2018-08-08T07:08:38.442560Z",
     "start_time": "2018-08-08T07:08:38.433727Z"
    }
   },
   "outputs": [
    {
     "data": {
      "text/plain": [
       "array([[12, 13, 14, 15],\n",
       "       [16, 17, 18, 19],\n",
       "       [20, 21, 22, 23]])"
      ]
     },
     "execution_count": 59,
     "metadata": {},
     "output_type": "execute_result"
    }
   ],
   "source": [
    "arr3 = np.arange(36).reshape((3,3,4))\n",
    "arr3[1][1][1]\n",
    "arr3[1, ]"
   ]
  },
  {
   "cell_type": "code",
   "execution_count": 69,
   "metadata": {
    "ExecuteTime": {
     "end_time": "2018-08-08T07:10:20.690095Z",
     "start_time": "2018-08-08T07:10:20.684578Z"
    }
   },
   "outputs": [
    {
     "data": {
      "text/plain": [
       "array([[[ 0,  1,  2,  3],\n",
       "        [88, 88, 88, 88],\n",
       "        [ 8,  9, 10, 11]],\n",
       "\n",
       "       [[12, 13, 14, 15],\n",
       "        [16, 17, 18, 19],\n",
       "        [20, 21, 22, 23]],\n",
       "\n",
       "       [[24, 25, 26, 27],\n",
       "        [28, 29, 30, 31],\n",
       "        [32, 33, 34, 35]]])"
      ]
     },
     "execution_count": 69,
     "metadata": {},
     "output_type": "execute_result"
    }
   ],
   "source": [
    "a = arr3[0]\n",
    "a[1] = 88\n",
    "arr3"
   ]
  },
  {
   "cell_type": "code",
   "execution_count": 71,
   "metadata": {
    "ExecuteTime": {
     "end_time": "2018-08-08T07:10:59.481830Z",
     "start_time": "2018-08-08T07:10:59.475906Z"
    }
   },
   "outputs": [
    {
     "data": {
      "text/plain": [
       "array([[14, 15],\n",
       "       [26, 27]])"
      ]
     },
     "execution_count": 71,
     "metadata": {},
     "output_type": "execute_result"
    }
   ],
   "source": [
    "arr3[1:, 0, 2:]"
   ]
  },
  {
   "cell_type": "code",
   "execution_count": 20,
   "metadata": {
    "ExecuteTime": {
     "end_time": "2018-08-09T06:18:03.260514Z",
     "start_time": "2018-08-09T06:18:03.252703Z"
    }
   },
   "outputs": [
    {
     "data": {
      "text/plain": [
       "array([[[ 0.51170953, -0.07712556, -1.05745012, -0.27704819],\n",
       "        [ 2.89898581,  0.42801871, -1.68907409,  1.11265974],\n",
       "        [-1.29311264,  0.33478899,  1.0168691 , -0.44062838],\n",
       "        [ 0.35222041, -0.82903384, -1.05370365,  1.1640279 ],\n",
       "        [ 2.40198157,  1.49469044, -0.00859507, -0.02253127],\n",
       "        [ 0.07476421,  0.19101853, -1.51826607,  0.36327673],\n",
       "        [ 1.48843744, -0.49648609,  0.57688018, -0.65962479]],\n",
       "\n",
       "       [[-0.47589549,  0.81824049, -0.88141369,  1.06847951],\n",
       "        [-0.76955744, -0.07380541,  2.05880682, -0.27106064],\n",
       "        [ 1.43294476, -0.80988376, -1.3105042 ,  0.8869198 ],\n",
       "        [ 1.07555243, -1.68560112, -0.85838777,  0.68469225],\n",
       "        [-0.41066734, -1.46305902,  0.22128381,  2.21895641],\n",
       "        [-1.02927576, -0.68955424, -0.97340158,  0.15289224],\n",
       "        [-0.374005  , -0.73003016, -0.46097384, -1.0758764 ]]])"
      ]
     },
     "execution_count": 20,
     "metadata": {},
     "output_type": "execute_result"
    }
   ],
   "source": [
    "#布尔型数组\n",
    "names = np.array([\"Bob\", \"Joe\", \"Will\", \"Bob\", \"Book\", \"Nike\", \"Soo\"])\n",
    "data = np.random.randn(2,7,4)\n",
    "data1 = np.random.randn(7)\n",
    "data"
   ]
  },
  {
   "cell_type": "code",
   "execution_count": 14,
   "metadata": {
    "ExecuteTime": {
     "end_time": "2018-08-09T06:14:48.804286Z",
     "start_time": "2018-08-09T06:14:48.799380Z"
    }
   },
   "outputs": [
    {
     "data": {
      "text/plain": [
       "array([ True, False, False,  True, False, False, False])"
      ]
     },
     "execution_count": 14,
     "metadata": {},
     "output_type": "execute_result"
    }
   ],
   "source": [
    "names == \"Bob\""
   ]
  },
  {
   "cell_type": "code",
   "execution_count": 15,
   "metadata": {
    "ExecuteTime": {
     "end_time": "2018-08-09T06:14:50.813421Z",
     "start_time": "2018-08-09T06:14:50.807532Z"
    }
   },
   "outputs": [
    {
     "data": {
      "text/plain": [
       "array([[[-0.74886973, -0.26382799],\n",
       "        [ 1.13467454, -2.13791891]],\n",
       "\n",
       "       [[-0.53810774,  0.63256229],\n",
       "        [-1.37625242,  0.29550152]]])"
      ]
     },
     "execution_count": 15,
     "metadata": {},
     "output_type": "execute_result"
    }
   ],
   "source": [
    "data[:2,names==\"Bob\", :2]"
   ]
  },
  {
   "cell_type": "code",
   "execution_count": 5,
   "metadata": {
    "ExecuteTime": {
     "end_time": "2018-08-09T05:57:21.452895Z",
     "start_time": "2018-08-09T05:57:21.446025Z"
    }
   },
   "outputs": [
    {
     "data": {
      "text/plain": [
       "array([0.2036945 , 1.51365787])"
      ]
     },
     "execution_count": 5,
     "metadata": {},
     "output_type": "execute_result"
    }
   ],
   "source": [
    "data1[names==\"Bob\"]"
   ]
  },
  {
   "cell_type": "code",
   "execution_count": 16,
   "metadata": {
    "ExecuteTime": {
     "end_time": "2018-08-09T06:15:11.801410Z",
     "start_time": "2018-08-09T06:15:11.795522Z"
    }
   },
   "outputs": [
    {
     "data": {
      "text/plain": [
       "array([[[-0.74886973, -0.26382799],\n",
       "        [ 1.13467454, -2.13791891],\n",
       "        [ 0.52155787,  0.72082715]],\n",
       "\n",
       "       [[-0.53810774,  0.63256229],\n",
       "        [-1.37625242,  0.29550152],\n",
       "        [ 0.37079361,  0.40664754]]])"
      ]
     },
     "execution_count": 16,
     "metadata": {},
     "output_type": "execute_result"
    }
   ],
   "source": [
    "data[:2,(names==\"Bob\") | (names==\"Nike\"), :2]"
   ]
  },
  {
   "cell_type": "code",
   "execution_count": 18,
   "metadata": {
    "ExecuteTime": {
     "end_time": "2018-08-09T06:17:31.702466Z",
     "start_time": "2018-08-09T06:17:31.695597Z"
    }
   },
   "outputs": [
    {
     "data": {
      "text/plain": [
       "array([[[0.        , 0.        , 0.        , 1.14330903],\n",
       "        [0.        , 0.        , 0.03067748, 0.9023098 ],\n",
       "        [0.21152644, 1.00655233, 0.69990655, 0.        ],\n",
       "        [1.13467454, 0.        , 0.        , 0.        ],\n",
       "        [0.        , 0.17238972, 0.        , 0.20720611],\n",
       "        [0.52155787, 0.72082715, 1.23847847, 0.        ],\n",
       "        [0.76713014, 0.60018125, 0.        , 0.        ]],\n",
       "\n",
       "       [[0.        , 0.63256229, 1.02740723, 0.40743892],\n",
       "        [0.        , 0.        , 0.        , 0.        ],\n",
       "        [0.19982142, 0.06434617, 0.        , 0.54701428],\n",
       "        [0.        , 0.29550152, 0.39299611, 0.32294192],\n",
       "        [0.        , 0.08113614, 0.29084415, 0.79259225],\n",
       "        [0.37079361, 0.40664754, 0.        , 0.44646305],\n",
       "        [0.        , 0.58247464, 0.        , 0.7231912 ]]])"
      ]
     },
     "execution_count": 18,
     "metadata": {},
     "output_type": "execute_result"
    }
   ],
   "source": [
    "data[data<0] = 0\n",
    "data"
   ]
  },
  {
   "cell_type": "code",
   "execution_count": 34,
   "metadata": {
    "ExecuteTime": {
     "end_time": "2018-08-09T06:32:48.272995Z",
     "start_time": "2018-08-09T06:32:48.268087Z"
    }
   },
   "outputs": [],
   "source": [
    "#花式索引\n",
    "arr = np.empty((8,4))\n",
    "for i in range(8):\n",
    "    arr[i] = i"
   ]
  },
  {
   "cell_type": "code",
   "execution_count": 35,
   "metadata": {
    "ExecuteTime": {
     "end_time": "2018-08-09T06:32:50.028864Z",
     "start_time": "2018-08-09T06:32:50.022976Z"
    }
   },
   "outputs": [
    {
     "data": {
      "text/plain": [
       "array([[4., 4., 4., 4.],\n",
       "       [3., 3., 3., 3.],\n",
       "       [0., 0., 0., 0.],\n",
       "       [6., 6., 6., 6.]])"
      ]
     },
     "execution_count": 35,
     "metadata": {},
     "output_type": "execute_result"
    }
   ],
   "source": [
    "arr[[4,3,0,6]]"
   ]
  },
  {
   "cell_type": "code",
   "execution_count": 51,
   "metadata": {
    "ExecuteTime": {
     "end_time": "2018-08-09T06:36:37.326184Z",
     "start_time": "2018-08-09T06:36:37.320751Z"
    }
   },
   "outputs": [
    {
     "data": {
      "text/plain": [
       "array([[ 0,  3,  1,  2],\n",
       "       [ 4,  7,  5,  6],\n",
       "       [ 8, 11,  9, 10],\n",
       "       [12, 15, 13, 14],\n",
       "       [16, 19, 17, 18],\n",
       "       [20, 23, 21, 22],\n",
       "       [24, 27, 25, 26],\n",
       "       [28, 31, 29, 30]])"
      ]
     },
     "execution_count": 51,
     "metadata": {},
     "output_type": "execute_result"
    }
   ],
   "source": [
    "arr[:][:,[0,3,1,2]]"
   ]
  },
  {
   "cell_type": "code",
   "execution_count": 43,
   "metadata": {
    "ExecuteTime": {
     "end_time": "2018-08-09T06:34:13.377466Z",
     "start_time": "2018-08-09T06:34:13.371979Z"
    }
   },
   "outputs": [
    {
     "data": {
      "text/plain": [
       "array([ 4, 23, 30,  9])"
      ]
     },
     "execution_count": 43,
     "metadata": {},
     "output_type": "execute_result"
    }
   ],
   "source": [
    "arr = np.arange(32).reshape((8,4))\n",
    "arr[[1,5,7,2], [0,3,2,1]]"
   ]
  },
  {
   "cell_type": "code",
   "execution_count": 32,
   "metadata": {
    "ExecuteTime": {
     "end_time": "2018-08-09T06:32:08.069423Z",
     "start_time": "2018-08-09T06:32:08.063535Z"
    }
   },
   "outputs": [
    {
     "data": {
      "text/plain": [
       "array([[ 4,  7,  5,  6],\n",
       "       [20, 23, 21, 22],\n",
       "       [28, 31, 29, 30],\n",
       "       [ 8, 11,  9, 10]])"
      ]
     },
     "execution_count": 32,
     "metadata": {},
     "output_type": "execute_result"
    }
   ],
   "source": [
    "arr[[1,5,7,2]][:,[0,3,1,2]]"
   ]
  },
  {
   "cell_type": "code",
   "execution_count": 54,
   "metadata": {
    "ExecuteTime": {
     "end_time": "2018-08-09T06:41:29.467409Z",
     "start_time": "2018-08-09T06:41:29.460498Z"
    },
    "scrolled": true
   },
   "outputs": [
    {
     "data": {
      "text/plain": [
       "array([[ 0,  4,  8, 12, 16, 20, 24, 28],\n",
       "       [ 1,  5,  9, 13, 17, 21, 25, 29],\n",
       "       [ 2,  6, 10, 14, 18, 22, 26, 30],\n",
       "       [ 3,  7, 11, 15, 19, 23, 27, 31]])"
      ]
     },
     "execution_count": 54,
     "metadata": {},
     "output_type": "execute_result"
    }
   ],
   "source": [
    "#转置\n",
    "arr = np.arange(32).reshape((8,4))\n",
    "arr.T\n",
    "np.transpose(arr)"
   ]
  },
  {
   "cell_type": "code",
   "execution_count": 53,
   "metadata": {
    "ExecuteTime": {
     "end_time": "2018-08-09T06:41:03.227232Z",
     "start_time": "2018-08-09T06:41:03.222327Z"
    }
   },
   "outputs": [
    {
     "data": {
      "text/plain": [
       "array([[2240, 2352, 2464, 2576],\n",
       "       [2352, 2472, 2592, 2712],\n",
       "       [2464, 2592, 2720, 2848],\n",
       "       [2576, 2712, 2848, 2984]])"
      ]
     },
     "execution_count": 53,
     "metadata": {},
     "output_type": "execute_result"
    }
   ],
   "source": [
    "np.dot(arr.T, arr)"
   ]
  }
 ],
 "metadata": {
  "kernelspec": {
   "display_name": "Python 3",
   "language": "python",
   "name": "python3"
  },
  "language_info": {
   "codemirror_mode": {
    "name": "ipython",
    "version": 3
   },
   "file_extension": ".py",
   "mimetype": "text/x-python",
   "name": "python",
   "nbconvert_exporter": "python",
   "pygments_lexer": "ipython3",
   "version": "3.6.2"
  }
 },
 "nbformat": 4,
 "nbformat_minor": 2
}
